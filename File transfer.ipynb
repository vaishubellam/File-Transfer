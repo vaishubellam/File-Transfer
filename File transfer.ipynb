{
 "cells": [
  {
   "cell_type": "code",
   "execution_count": 1,
   "id": "46f138e3",
   "metadata": {},
   "outputs": [],
   "source": [
    "import pyqrcode\n",
    "import png"
   ]
  },
  {
   "cell_type": "code",
   "execution_count": null,
   "id": "e149cd7c",
   "metadata": {},
   "outputs": [
    {
     "name": "stdout",
     "output_type": "stream",
     "text": [
      "serving at port 8010\n",
      "Type this in your Browser http://192.168.1.4:8010\n",
      "or Use the QRCode\n"
     ]
    }
   ],
   "source": [
    "# for implementing the HTTP Web servers\n",
    "import http.server\n",
    "\n",
    "# provides access to the BSD socket interface\n",
    "import socket\n",
    "\n",
    "# a framework for network servers\n",
    "import socketserver\n",
    "\n",
    "# to display a Web-based documents to users\n",
    "import webbrowser\n",
    "\n",
    "# to generate qrcode\n",
    "import pyqrcode\n",
    "from pyqrcode import QRCode\n",
    "\n",
    "# convert into png format\n",
    "import png\n",
    "\n",
    "# to access operating system control\n",
    "import os\n",
    "\n",
    "\n",
    "# assigning the appropriate port value\n",
    "PORT = 8010\n",
    "# this finds the name of the computer user\n",
    "os.environ['USERPROFILE']\n",
    "\n",
    "\n",
    "# changing the directory to access the files desktop\n",
    "# with the help of os module\n",
    "desktop = os.path.join(os.path.join(os.environ['USERPROFILE']),\n",
    "\t\t\t\t\t'OneDrive')\n",
    "os.chdir(desktop)\n",
    "\n",
    "\n",
    "# creating a http request\n",
    "Handler = http.server.SimpleHTTPRequestHandler\n",
    "# returns, host name of the system under\n",
    "# which Python interpreter is executed\n",
    "hostname = socket.gethostname()\n",
    "\n",
    "\n",
    "# finding the IP address of the PC\n",
    "s = socket.socket(socket.AF_INET, socket.SOCK_DGRAM)\n",
    "s.connect((\"8.8.8.8\", 80))\n",
    "IP = \"http://\" + s.getsockname()[0] + \":\" + str(PORT)\n",
    "link = IP\n",
    "\n",
    "\n",
    "# converting the IP address into the form of a QRcode\n",
    "# with the help of pyqrcode module\n",
    "\n",
    "# converts the IP address into a Qrcode\n",
    "url = pyqrcode.create(link)\n",
    "# saves the Qrcode inform of svg\n",
    "url.svg(\"myqr.svg\", scale=8)\n",
    "# opens the Qrcode image in the web browser\n",
    "webbrowser.open('myqr.svg')\n",
    "\n",
    "\n",
    "# Creating the HTTP request and serving the\n",
    "# folder in the PORT 8010,and the pyqrcode is generated\n",
    "\n",
    "# continuous stream of data between client and server\n",
    "with socketserver.TCPServer((\"\", PORT), Handler) as httpd:\n",
    "\tprint(\"serving at port\", PORT)\n",
    "\tprint(\"Type this in your Browser\", IP)\n",
    "\tprint(\"or Use the QRCode\")\n",
    "\thttpd.serve_forever()"
   ]
  },
  {
   "cell_type": "code",
   "execution_count": null,
   "id": "0f43a32b",
   "metadata": {},
   "outputs": [],
   "source": []
  }
 ],
 "metadata": {
  "kernelspec": {
   "display_name": "Python 3 (ipykernel)",
   "language": "python",
   "name": "python3"
  },
  "language_info": {
   "codemirror_mode": {
    "name": "ipython",
    "version": 3
   },
   "file_extension": ".py",
   "mimetype": "text/x-python",
   "name": "python",
   "nbconvert_exporter": "python",
   "pygments_lexer": "ipython3",
   "version": "3.9.13"
  }
 },
 "nbformat": 4,
 "nbformat_minor": 5
}
