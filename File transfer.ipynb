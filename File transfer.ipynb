{
 "cells": [
  {
   "cell_type": "code",
   "execution_count": 1,
   "id": "46f138e3",
   "metadata": {},
   "outputs": [
    {
     "ename": "ModuleNotFoundError",
     "evalue": "No module named 'pyqrcode'",
     "output_type": "error",
     "traceback": [
      "\u001b[1;31m---------------------------------------------------------------------------\u001b[0m",
      "\u001b[1;31mModuleNotFoundError\u001b[0m                       Traceback (most recent call last)",
      "\u001b[1;32m~\\AppData\\Local\\Temp\\ipykernel_23420\\790225501.py\u001b[0m in \u001b[0;36m<module>\u001b[1;34m\u001b[0m\n\u001b[1;32m----> 1\u001b[1;33m \u001b[1;32mimport\u001b[0m \u001b[0mpyqrcode\u001b[0m\u001b[1;33m\u001b[0m\u001b[1;33m\u001b[0m\u001b[0m\n\u001b[0m\u001b[0;32m      2\u001b[0m \u001b[1;32mimport\u001b[0m \u001b[0mpng\u001b[0m\u001b[1;33m\u001b[0m\u001b[1;33m\u001b[0m\u001b[0m\n",
      "\u001b[1;31mModuleNotFoundError\u001b[0m: No module named 'pyqrcode'"
     ]
    }
   ],
   "source": [
    "import pyqrcode\n",
    "import png"
   ]
  },
  {
   "cell_type": "code",
   "execution_count": 2,
   "id": "2d321785",
   "metadata": {},
   "outputs": [
    {
     "name": "stdout",
     "output_type": "stream",
     "text": [
      "Collecting pyqrcode\n",
      "  Downloading PyQRCode-1.2.1.zip (41 kB)\n",
      "     ---------------------------------------- 41.9/41.9 kB 2.0 MB/s eta 0:00:00\n",
      "  Preparing metadata (setup.py): started\n",
      "  Preparing metadata (setup.py): finished with status 'done'\n",
      "Building wheels for collected packages: pyqrcode\n",
      "  Building wheel for pyqrcode (setup.py): started\n",
      "  Building wheel for pyqrcode (setup.py): finished with status 'done'\n",
      "  Created wheel for pyqrcode: filename=PyQRCode-1.2.1-py3-none-any.whl size=36229 sha256=af7adf85f99b95cb9f368aa0fe1d00bc0662d495e23e3f851895e4f30cbe1ce3\n",
      "  Stored in directory: c:\\users\\vaishnavi\\appdata\\local\\pip\\cache\\wheels\\da\\75\\c0\\38c7f82750de2725429b6b8571dca254249d73f6c882c5d9b1\n",
      "Successfully built pyqrcode\n",
      "Installing collected packages: pyqrcode\n",
      "Successfully installed pyqrcode-1.2.1\n",
      "Note: you may need to restart the kernel to use updated packages.\n"
     ]
    }
   ],
   "source": [
    "pip install pyqrcode"
   ]
  },
  {
   "cell_type": "code",
   "execution_count": 3,
   "id": "5e459fc5",
   "metadata": {},
   "outputs": [
    {
     "name": "stdout",
     "output_type": "stream",
     "text": [
      "Collecting pypng\n",
      "  Downloading pypng-0.20220715.0-py3-none-any.whl (58 kB)\n",
      "     ---------------------------------------- 58.1/58.1 kB 3.0 MB/s eta 0:00:00\n",
      "Installing collected packages: pypng\n",
      "Successfully installed pypng-0.20220715.0\n",
      "Note: you may need to restart the kernel to use updated packages.\n"
     ]
    }
   ],
   "source": [
    "pip install pypng"
   ]
  },
  {
   "cell_type": "code",
   "execution_count": null,
   "id": "e149cd7c",
   "metadata": {},
   "outputs": [
    {
     "name": "stdout",
     "output_type": "stream",
     "text": [
      "serving at port 8010\n",
      "Type this in your Browser http://192.168.1.4:8010\n",
      "or Use the QRCode\n"
     ]
    },
    {
     "name": "stderr",
     "output_type": "stream",
     "text": [
      "192.168.1.4 - - [22/Dec/2024 20:50:27] \"GET / HTTP/1.1\" 200 -\n",
      "192.168.1.4 - - [22/Dec/2024 20:50:28] code 404, message File not found\n",
      "192.168.1.4 - - [22/Dec/2024 20:50:28] \"GET /favicon.ico HTTP/1.1\" 404 -\n",
      "192.168.1.4 - - [22/Dec/2024 20:50:28] code 400, message Bad request syntax ('\\x16\\x03\\x01\\x07\\x00\\x01\\x00\\x06ü\\x03\\x03\\x03TC\\x9d/îñ\\x14')\n",
      "192.168.1.4 - - [22/Dec/2024 20:50:28] \"\u0016\u0003\u0001\u0007\u0000\u0001\u0000\u0006ü\u0003\u0003\u0003TC/îñ\u0014\" 400 -\n",
      "192.168.1.4 - - [22/Dec/2024 20:50:28] code 400, message Bad request version ('8¶Ô¯a\\x00I')\n",
      "8¶Ô¯a\u0000I\" 400 -,I\"ÔÚ¡\teVÛÜ\u0019Û¹\u00041Îp¹?4\u0000°ÎI«³s\u000fÎ0r´. VòY\f",
      "¯Y\u001c",
      "Ç,Õ!\tËú1¼uÉQ(«Áä2¼ \u0011Åg\u0018oÔaÞ×\u001fHd\u001d",
      "ÑÏk@ªbâÎërüP{\u001e",
      "\u000e)\u0006\u0000 ÊÊ\u0013\u0001\u0013\u0002\u0013\u0003À+À/À,À0Ì©Ì¨À\u0013À\u0014\u0000\u0000\u0000/\u00005\u0001\u0000\u0006Sêê\u0000\u0000þ\n",
      "192.168.1.4 - - [22/Dec/2024 20:50:39] \"GET /MPML17_CODE/ HTTP/1.1\" 200 -\n",
      "192.168.1.4 - - [22/Dec/2024 20:50:42] \"GET /MPML17_CODE/MPML17_CODE/ HTTP/1.1\" 200 -\n",
      "192.168.1.4 - - [22/Dec/2024 20:50:44] \"GET /MPML17_CODE/MPML17_CODE/WORKING_CODE/ HTTP/1.1\" 200 -\n",
      "192.168.1.4 - - [22/Dec/2024 20:50:46] \"GET /MPML17_CODE/MPML17_CODE/WORKING_CODE/MACHINE%20LEARNING%20BASED%20HEART_WORKING/ HTTP/1.1\" 200 -\n",
      "192.168.1.4 - - [22/Dec/2024 20:50:53] \"GET /MPML17_CODE/MPML17_CODE/WORKING_CODE/MACHINE%20LEARNING%20BASED%20HEART_WORKING/requirements.txt HTTP/1.1\" 200 -\n"
     ]
    }
   ],
   "source": [
    "# import necessary modules\n",
    "\n",
    "# for implementing the HTTP Web servers\n",
    "import http.server\n",
    "\n",
    "# provides access to the BSD socket interface\n",
    "import socket\n",
    "\n",
    "# a framework for network servers\n",
    "import socketserver\n",
    "\n",
    "# to display a Web-based documents to users\n",
    "import webbrowser\n",
    "\n",
    "# to generate qrcode\n",
    "import pyqrcode\n",
    "from pyqrcode import QRCode\n",
    "\n",
    "# convert into png format\n",
    "import png\n",
    "\n",
    "# to access operating system control\n",
    "import os\n",
    "\n",
    "\n",
    "# assigning the appropriate port value\n",
    "PORT = 8010\n",
    "# this finds the name of the computer user\n",
    "os.environ['USERPROFILE']\n",
    "\n",
    "\n",
    "# changing the directory to access the files desktop\n",
    "# with the help of os module\n",
    "desktop = os.path.join(os.path.join(os.environ['USERPROFILE']),\n",
    "\t\t\t\t\t'OneDrive')\n",
    "os.chdir(desktop)\n",
    "\n",
    "\n",
    "# creating a http request\n",
    "Handler = http.server.SimpleHTTPRequestHandler\n",
    "# returns, host name of the system under\n",
    "# which Python interpreter is executed\n",
    "hostname = socket.gethostname()\n",
    "\n",
    "\n",
    "# finding the IP address of the PC\n",
    "s = socket.socket(socket.AF_INET, socket.SOCK_DGRAM)\n",
    "s.connect((\"8.8.8.8\", 80))\n",
    "IP = \"http://\" + s.getsockname()[0] + \":\" + str(PORT)\n",
    "link = IP\n",
    "\n",
    "\n",
    "# converting the IP address into the form of a QRcode\n",
    "# with the help of pyqrcode module\n",
    "\n",
    "# converts the IP address into a Qrcode\n",
    "url = pyqrcode.create(link)\n",
    "# saves the Qrcode inform of svg\n",
    "url.svg(\"myqr.svg\", scale=8)\n",
    "# opens the Qrcode image in the web browser\n",
    "webbrowser.open('myqr.svg')\n",
    "\n",
    "\n",
    "# Creating the HTTP request and serving the\n",
    "# folder in the PORT 8010,and the pyqrcode is generated\n",
    "\n",
    "# continuous stream of data between client and server\n",
    "with socketserver.TCPServer((\"\", PORT), Handler) as httpd:\n",
    "\tprint(\"serving at port\", PORT)\n",
    "\tprint(\"Type this in your Browser\", IP)\n",
    "\tprint(\"or Use the QRCode\")\n",
    "\thttpd.serve_forever()"
   ]
  },
  {
   "cell_type": "code",
   "execution_count": null,
   "id": "0f43a32b",
   "metadata": {},
   "outputs": [],
   "source": []
  }
 ],
 "metadata": {
  "kernelspec": {
   "display_name": "Python 3 (ipykernel)",
   "language": "python",
   "name": "python3"
  },
  "language_info": {
   "codemirror_mode": {
    "name": "ipython",
    "version": 3
   },
   "file_extension": ".py",
   "mimetype": "text/x-python",
   "name": "python",
   "nbconvert_exporter": "python",
   "pygments_lexer": "ipython3",
   "version": "3.9.13"
  }
 },
 "nbformat": 4,
 "nbformat_minor": 5
}
